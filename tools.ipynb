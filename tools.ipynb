{
  "nbformat": 4,
  "nbformat_minor": 0,
  "metadata": {
    "colab": {
      "name": "tools.ipynb",
      "provenance": [],
      "private_outputs": true,
      "collapsed_sections": [],
      "include_colab_link": true
    },
    "kernelspec": {
      "name": "python3",
      "display_name": "Python 3"
    }
  },
  "cells": [
    {
      "cell_type": "markdown",
      "metadata": {
        "id": "view-in-github",
        "colab_type": "text"
      },
      "source": [
        "<a href=\"https://colab.research.google.com/github/hesokaslave/preprocess/blob/master/tools.ipynb\" target=\"_parent\"><img src=\"https://colab.research.google.com/assets/colab-badge.svg\" alt=\"Open In Colab\"/></a>"
      ]
    },
    {
      "cell_type": "code",
      "metadata": {
        "id": "4YLlvhUIXCUr",
        "colab_type": "code",
        "colab": {}
      },
      "source": [
        "def scale_data(data, cols, scaler_type='standard', min=0, max=1, inplace=False):\n",
        "  #possible values of scaler_type : [ minmax, standard ]\n",
        "  from sklearn.preprocessing import MinMaxScaler, StandardScaler\n",
        "  if scaler_type == 'minmax':\n",
        "    scaler = MinMaxScaler(feature_range = (min,max))\n",
        "  else:\n",
        "    scaler = StandardScaler()\n",
        "  scaled_data = scaler.fit_transform(data[cols])\n",
        "  df_data = pd.DataFrame(scaled_data, columns=cols)\n",
        "  if inplace:\n",
        "    data[cols] = df_data\n",
        "  return df_data, scaler"
      ],
      "execution_count": 0,
      "outputs": []
    },
    {
      "cell_type": "code",
      "metadata": {
        "id": "G92RVdpCXTPH",
        "colab_type": "code",
        "colab": {}
      },
      "source": [
        "def clean_rows(data, threshold=50, inplace=False):\n",
        "  rows = data[data.isnull().sum(axis=1) < threshold]\n",
        "  if inplace:\n",
        "    data = rows\n",
        "  return rows"
      ],
      "execution_count": 0,
      "outputs": []
    },
    {
      "cell_type": "code",
      "metadata": {
        "id": "V0PvR-fnX2DN",
        "colab_type": "code",
        "colab": {}
      },
      "source": [
        "def label_encode(data, inplace=False):\n",
        "  from sklearn.preprocessing import LabelEncoder\n",
        "  import pandas as pd\n",
        "  le = LabelEncoder()\n",
        "  if inplace:\n",
        "    data = le.fit_transform(data)\n",
        "  return data, le"
      ],
      "execution_count": 0,
      "outputs": []
    },
    {
      "cell_type": "code",
      "metadata": {
        "id": "D7hyI-qVq98S",
        "colab_type": "code",
        "colab": {}
      },
      "source": [
        "def missing_values_report(data, axis=1, threshold=-1,  exclude_present=True):\n",
        "  columns = list(data.columns) if axis == 1 else ['All Rows']\n",
        "  print(\"Missing Data for {}\".format(columns))\n",
        "  print(\"Threshold : {}\".format(threshold))\n",
        "  data = data.isnull().sum(axis=axis).sort_values(ascending = False).to_frame()\n",
        "  data.columns = ['count']\n",
        "  if exclude_present:    \n",
        "    data = data[data['count'] > threshold].drop_duplicates()\n",
        "  if not data.empty:\n",
        "    print(data)\n",
        "  else:\n",
        "    print('Congratulations ! No missing Values on the choosen axe !')\n",
        "  return data"
      ],
      "execution_count": 0,
      "outputs": []
    },
    {
      "cell_type": "code",
      "metadata": {
        "id": "CNTVC7r9Phrc",
        "colab_type": "code",
        "colab": {}
      },
      "source": [
        "def fill_cols_by_strategy(data, threshold=100, strategy='mean'):\n",
        "  from sklearn.impute import SimpleImputer\n",
        "  import numpy as np\n",
        "  import pandas as pd\n",
        "  imp = SimpleImputer(missing_values=np.nan, strategy=strategy)\n",
        "  cols = list(data[ data[ data < threshold ] | data[data > 0]].index)\n",
        "  #cleaned_cols = pd.DataFrame(imp.fit_transform(data), columns=cols)\n",
        "  #data[cols] = clean_cols\n",
        "  #return data"
      ],
      "execution_count": 0,
      "outputs": []
    },
    {
      "cell_type": "code",
      "metadata": {
        "id": "ADUnicKSQWjg",
        "colab_type": "code",
        "colab": {}
      },
      "source": [
        ""
      ],
      "execution_count": 0,
      "outputs": []
    },
    {
      "cell_type": "code",
      "metadata": {
        "id": "Ij03NtEpe7YO",
        "colab_type": "code",
        "colab": {}
      },
      "source": [
        "import pandas as pd\n",
        "data = pd.read_csv('train.csv')"
      ],
      "execution_count": 0,
      "outputs": []
    },
    {
      "cell_type": "code",
      "metadata": {
        "id": "_SbiHUJIQG-Y",
        "colab_type": "code",
        "colab": {}
      },
      "source": [
        "data.head()"
      ],
      "execution_count": 0,
      "outputs": []
    },
    {
      "cell_type": "code",
      "metadata": {
        "id": "caKbv0diPlis",
        "colab_type": "code",
        "colab": {}
      },
      "source": [
        "types = data.dtypes\n",
        "types[ types == 'object']"
      ],
      "execution_count": 0,
      "outputs": []
    },
    {
      "cell_type": "code",
      "metadata": {
        "id": "KWHA7gbkff3u",
        "colab_type": "code",
        "colab": {}
      },
      "source": [
        "d, s = label_encode(data[['FJU_CODFJU']])"
      ],
      "execution_count": 0,
      "outputs": []
    },
    {
      "cell_type": "code",
      "metadata": {
        "id": "mwLZMA2Go62u",
        "colab_type": "code",
        "colab": {}
      },
      "source": [
        "r = clean_rows(d, threshold=1)\n",
        "#data = data.dropna()"
      ],
      "execution_count": 0,
      "outputs": []
    },
    {
      "cell_type": "code",
      "metadata": {
        "id": "ns726Sr1pX2B",
        "colab_type": "code",
        "colab": {}
      },
      "source": [
        "dd = missing_values_report(data, axis=0, threshold=10,  exclude_present=True)"
      ],
      "execution_count": 0,
      "outputs": []
    },
    {
      "cell_type": "code",
      "metadata": {
        "id": "NS3NIJdhYjHs",
        "colab_type": "code",
        "colab": {}
      },
      "source": [
        "def clean_cols_by_imputter(data, threshold):\n",
        "  pass"
      ],
      "execution_count": 0,
      "outputs": []
    },
    {
      "cell_type": "code",
      "metadata": {
        "id": "zmE9YzvwLrT7",
        "colab_type": "code",
        "colab": {}
      },
      "source": [
        "(data, threshold=20)"
      ],
      "execution_count": 0,
      "outputs": []
    },
    {
      "cell_type": "code",
      "metadata": {
        "id": "To2_EMAPblnw",
        "colab_type": "code",
        "colab": {}
      },
      "source": [
        ""
      ],
      "execution_count": 0,
      "outputs": []
    }
  ]
}